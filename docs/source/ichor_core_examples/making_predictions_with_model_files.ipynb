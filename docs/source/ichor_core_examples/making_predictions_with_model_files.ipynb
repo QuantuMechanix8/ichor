{
 "cells": [
  {
   "cell_type": "markdown",
   "metadata": {},
   "source": [
    "# Predicting with Gaussian process regression models\n",
    "\n",
    "`ichor` does not make Gaussian process model files, however it can be used to predict with previously created model files. The model files are produced by either [GPyTorch](https://gpytorch.ai/) or the in-house FEREBUS code. The `.model` file extension is used for model files and can be read in by the `Model` class. Alternatively, a set of `.model` files can be read in with the `Models` class.\n",
    "\n",
    "Currently the RBF and Periodic kernels are used for the GPR models. These are also implemented in ichor and the correct kernels are read to use are read in from the model file.\n",
    "\n",
    "## Making predictions with ichor"
   ]
  },
  {
   "cell_type": "code",
   "execution_count": 1,
   "metadata": {},
   "outputs": [
    {
     "name": "stdout",
     "output_type": "stream",
     "text": [
      "N1 [-54.97401087]\n",
      "H2 [-0.53780037]\n",
      "H3 [-0.56134275]\n",
      "H4 [-0.5568125]\n"
     ]
    }
   ],
   "source": [
    "from ichor.core.models import Models\n",
    "from ichor.core.files import Trajectory\n",
    "from ichor.core.calculators import calculate_alf_features\n",
    "\n",
    "models = Models(\"../../../example_files/models\")\n",
    "traj = Trajectory(\"../../../example_files/xyz/AMMONIA-1000.xyz\")\n",
    "atoms = traj[0]\n",
    "\n",
    "# loop over models\n",
    "for m in models:\n",
    "    # get atom for which the model is made\n",
    "    atom = atoms[m.atom_name]\n",
    "    atom_alf = m.alf\n",
    "    atom_features = atom.features(calculate_alf_features, atom_alf)\n",
    "    pred = m.predict(atom_features)\n",
    "    print(atom.name, pred)\n"
   ]
  }
 ],
 "metadata": {
  "kernelspec": {
   "display_name": "ichor_docs",
   "language": "python",
   "name": "python3"
  },
  "language_info": {
   "codemirror_mode": {
    "name": "ipython",
    "version": 3
   },
   "file_extension": ".py",
   "mimetype": "text/x-python",
   "name": "python",
   "nbconvert_exporter": "python",
   "pygments_lexer": "ipython3",
   "version": "3.10.12"
  }
 },
 "nbformat": 4,
 "nbformat_minor": 2
}
