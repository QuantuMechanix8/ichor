{
 "cells": [
  {
   "cell_type": "markdown",
   "metadata": {},
   "source": [
    "# Rotating Geometries in in an Trajectory-type (xyz/DL_POLY HISTORY)\n"
   ]
  },
  {
   "cell_type": "markdown",
   "metadata": {},
   "source": [
    "It is useful to rotate the geometries in an xyz file on a particular ALF because this centers all geometries in a dataset on a particular set of atoms. Then you can visually compare datasets to see how the atoms are moving."
   ]
  },
  {
   "cell_type": "markdown",
   "metadata": {},
   "source": [
    "You can center on a particular alf by doing something like:"
   ]
  },
  {
   "cell_type": "code",
   "execution_count": 2,
   "metadata": {},
   "outputs": [],
   "source": [
    "from ichor.core.files import Trajectory\n",
    "from ichor.core.atoms import ALF\n",
    "alf = {\"C1\": ALF(0, 2, 1)}\n",
    "traj = Trajectory(\"../../../example_files/METHANOL_AMBER_1000K_5trajectories.xyz\")\n",
    "# rotates all geometries on the given alf and writes to a new xyz file\n",
    "# note this is commented out because it otherwise will write out a file in the docs.\n",
    "\n",
    "# traj.center_geometries_on_atom_and_write_xyz(\"C1\", alf, \"methanol_sp_centered_c1.xyz\")"
   ]
  },
  {
   "cell_type": "markdown",
   "metadata": {},
   "source": [
    "Alternatively, you can also gen an ALF automatically by using one of the alf calculators:"
   ]
  },
  {
   "cell_type": "code",
   "execution_count": 3,
   "metadata": {},
   "outputs": [],
   "source": [
    "from ichor.core.files import Trajectory\n",
    "from ichor.core.calculators import default_alf_calculator\n",
    "\n",
    "traj = Trajectory(\"../../../example_files/METHANOL_AMBER_1000K_5trajectories.xyz\")\n",
    "\n",
    "# uses the default calculator to calculate and ALF for ever atom\n",
    "alf = traj.alf_dict(default_alf_calculator)\n",
    "\n",
    "# rotates all geometries on the given alf and writes to a new xyz file\n",
    "# note this is commented out because it otherwise will write out a file in the docs.\n",
    "\n",
    "# traj.center_geometries_on_atom_and_write_xyz(\"C1\", alf, \"methanol_sp_centered_c1.xyz\")"
   ]
  }
 ],
 "metadata": {
  "kernelspec": {
   "display_name": "ichor_docs",
   "language": "python",
   "name": "python3"
  },
  "language_info": {
   "codemirror_mode": {
    "name": "ipython",
    "version": 3
   },
   "file_extension": ".py",
   "mimetype": "text/x-python",
   "name": "python",
   "nbconvert_exporter": "python",
   "pygments_lexer": "ipython3",
   "version": "3.10.12"
  },
  "orig_nbformat": 4
 },
 "nbformat": 4,
 "nbformat_minor": 2
}
