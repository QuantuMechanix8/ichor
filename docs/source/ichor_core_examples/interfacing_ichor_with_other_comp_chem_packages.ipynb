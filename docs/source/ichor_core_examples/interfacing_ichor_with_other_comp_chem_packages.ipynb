{
 "cells": [
  {
   "cell_type": "markdown",
   "metadata": {},
   "source": [
    "# Interfacing ichor files with other Computational Chemistry Python packages\n",
    "\n",
    "The ichor file system can be readily interfaced with other parsers for file reading and writing. Below is an example of interfacing ichor with various popular computational chemistry packages that support file reading and writing. All the functionalities of ichor are kept even if a third party library is used for the file parsing and writing."
   ]
  },
  {
   "cell_type": "markdown",
   "metadata": {},
   "source": [
    "### Interfacing with [Atomic Simulation Environment](https://wiki.fysik.dtu.dk/ase/)"
   ]
  },
  {
   "cell_type": "code",
   "execution_count": 26,
   "metadata": {},
   "outputs": [],
   "source": [
    "# ASE code for writing out file\n",
    "\n",
    "from ase.io.gaussian import write_gaussian_in\n",
    "from ase.atoms import Atoms as ASEAtoms\n",
    "from ase.atoms import Atom as ASEAtom\n",
    "\n",
    "ase_atoms_to_write = ASEAtoms([ASEAtom(\"N\", (1.30610788, -29.77550072, -0.39451506)), ASEAtom(\"H\", (0.88322943, -29.08071028, -1.14190493)),\n",
    "              ASEAtom(\"H\", (1.46749713, -29.22282070, 0.46703669)),\n",
    "              ASEAtom(\"H\", (2.11921902, -30.18852549, -0.75438182))])\n",
    "\n",
    "# the code below is used to write out the file to disk.\n",
    "\n",
    "# write out file to disk\n",
    "# with open(\"../../../example_files/example_gjfs/ase_example.gjf\", \"w\") as f:\n",
    "\n",
    "#     write_gaussian_in(f, ase_atoms_to_write, method=\"b3lyp\", basis=\"aug-cc-pvtz\", mult=1, charge=0)"
   ]
  },
  {
   "cell_type": "code",
   "execution_count": 27,
   "metadata": {},
   "outputs": [],
   "source": [
    "from pathlib import Path\n",
    "from typing import List, Optional, Union\n",
    "from ichor.core.common.functools import classproperty\n",
    "from ichor.core.files.file import FileContents, ReadFile, WriteFile\n",
    "from ase.io.gaussian import read_gaussian_in, write_gaussian_in\n",
    "from ichor.core.atoms import Atoms, Atom\n",
    "from ichor.core.files.file_data import HasAtoms\n",
    "\n",
    "\n",
    "class GJF(ReadFile, WriteFile, HasAtoms):\n",
    "    \"\"\"\n",
    "    Implementation for interfacing with ASE\n",
    "    \"\"\"\n",
    "\n",
    "    def __init__(\n",
    "        self,\n",
    "        path: Union[Path, str],\n",
    "        charge: Optional[int] = None,\n",
    "        spin_multiplicity: Optional[int] = None,\n",
    "        ase_atoms: Optional[ASEAtoms] = None,\n",
    "        basis_set: Optional[str] = None,\n",
    "        method: Optional[str] = None\n",
    "    ):\n",
    "        super().__init__(path)\n",
    "\n",
    "        self.charge: int = charge or FileContents\n",
    "        self.spin_multiplicity: int = spin_multiplicity or FileContents\n",
    "        self.ase_atoms = ase_atoms or FileContents\n",
    "        self.atoms = FileContents\n",
    "        self.basis_set = basis_set or FileContents\n",
    "        self.method = method or FileContents\n",
    "\n",
    "    @classproperty\n",
    "    def filetype(self) -> str:\n",
    "        return \".gjf\"\n",
    "\n",
    "    def _read_file(self):\n",
    "\n",
    "        with open(self.path, \"r\") as f:\n",
    "            all_lines = f.readlines()\n",
    "\n",
    "        ase_atoms = read_gaussian_in(all_lines, attach_calculator=True)\n",
    "\n",
    "        self.ase_atoms = ase_atoms\n",
    "        self.charge = self.charge or self.ase_atoms.calc.parameters.get(\"charge\")\n",
    "        self.spin_multiplicity = self.spin_multiplicity or self.ase_atoms.calc.parameters.get(\"mult\")\n",
    "        self.basis_set = self.ase_atoms.calc.parameters.get(\"basis\")\n",
    "        self.method = self.ase_atoms.calc.parameters.get(\"method\")\n",
    "\n",
    "\n",
    "        ichor_atoms = Atoms()\n",
    "        for a in self.ase_atoms:\n",
    "            ichor_atoms.append(Atom(a.symbol, *a.position))\n",
    "\n",
    "        self.atoms = ichor_atoms\n",
    "\n",
    "    def _write_file(self, path: Path, *args, **kwargs):\n",
    "\n",
    "        with open(path, \"w\") as f:\n",
    "\n",
    "            write_gaussian_in(f, self.ase_atoms, basis_set=self.basis_set, method=self.method)\n"
   ]
  },
  {
   "cell_type": "code",
   "execution_count": 28,
   "metadata": {},
   "outputs": [
    {
     "name": "stdout",
     "output_type": "stream",
     "text": [
      "b3lyp\n",
      "aug-cc-pvtz\n",
      "1\n",
      "0\n"
     ]
    }
   ],
   "source": [
    "gjf_file_path = Path(\"../../../example_files/example_gjfs/ase_example.gjf\")\n",
    "\n",
    "gjf_instance = GJF(gjf_file_path)\n",
    "\n",
    "print(gjf_instance.method)\n",
    "print(gjf_instance.basis_set)\n",
    "print(gjf_instance.spin_multiplicity)\n",
    "print(gjf_instance.charge)"
   ]
  },
  {
   "cell_type": "code",
   "execution_count": 29,
   "metadata": {},
   "outputs": [
    {
     "name": "stdout",
     "output_type": "stream",
     "text": [
      "6-31G(d,p)\n"
     ]
    }
   ],
   "source": [
    "# case where we want to modify the GJF file to use a different basis set\n",
    "gjf_file_path = Path(\"../../../example_files/ase_example.gjf\")\n",
    "gjf_instance = GJF(gjf_file_path, basis_set=\"6-31G(d,p)\")\n",
    "print(gjf_instance.basis_set)\n",
    "\n",
    "# as it can be seen, basis set in the instance has changed.\n",
    "# To overwrite the original file to make the basis set change for the calculation.\n",
    "#gjf_instance.write()"
   ]
  },
  {
   "cell_type": "markdown",
   "metadata": {},
   "source": [
    "### Interfacing with [cclib](https://cclib.github.io/)\n",
    "\n",
    "The same process can also be implemented for interfacing with `cclib` or other file reading and writing libraries for computational chemistry, such as [`pymatgen`](https://pymatgen.org/) and [`IOData`](https://iodata.readthedocs.io/en/latest/)."
   ]
  },
  {
   "cell_type": "code",
   "execution_count": 30,
   "metadata": {},
   "outputs": [
    {
     "name": "stdout",
     "output_type": "stream",
     "text": [
      "O1      -0.03348700     -0.46689800     -0.00424900\n",
      "H2      -0.50428200      0.20263200      0.56694800\n",
      "H3       0.53777000      0.26426600     -0.56269900\n"
     ]
    }
   ],
   "source": [
    "import cclib\n",
    "from ichor.core.common.constants import type2nuclear_charge\n",
    "\n",
    "charge_to_type = {int(v):k for k, v in type2nuclear_charge.items()}\n",
    "\n",
    "class GaussianOutput(ReadFile, HasAtoms):\n",
    "    \"\"\"\n",
    "    Example of Gaussian output file reading with ccib\n",
    "    \"\"\"\n",
    "\n",
    "    def __init__(self, path):\n",
    "\n",
    "        super().__init__(path)\n",
    "        self.global_forces = FileContents\n",
    "        self.charge = FileContents\n",
    "        self.multiplicity = FileContents\n",
    "        self.moments = FileContents\n",
    "        self.atoms = FileContents\n",
    "\n",
    "    def _read_file(self):\n",
    "\n",
    "        data = cclib.io.ccread(filename)\n",
    "\n",
    "        self.charge = data.charge\n",
    "        self.multiplicity = data.mult\n",
    "        self.global_forces = data.grads\n",
    "        self.moments = data.moments\n",
    "\n",
    "        # index because it has 1 more dimension that needed\n",
    "        coords = data.atomcoords[0]\n",
    "        atomic_numbers = data.atomnos\n",
    "\n",
    "        atoms = Atoms()\n",
    "        for num, coord in zip(atomic_numbers, coords):\n",
    "            atoms.append(Atom(charge_to_type[num], *coord))\n",
    "\n",
    "        self.atoms = atoms\n",
    "\n",
    "\n",
    "# read in Gaussian output file\n",
    "filename = \"../../../example_files/example_points_directory/WATER_MONOMER.pointsdir/WATER_MONOMER0000.pointdir/WATER_MONOMER0000.gaussianoutput\"\n",
    "gaussian_out = GaussianOutput(filename)\n",
    "print(gaussian_out.atoms)"
   ]
  },
  {
   "cell_type": "markdown",
   "metadata": {},
   "source": [
    "In the future, it is likely that other parsing libraries will be used by ichor to parse input and output files, as parsers already exist for most files. Some files that are currently implemented in ichor are used only for the group's research, so this is why custom parsers need to be implemented sometimes.\n",
    "\n",
    "There are still multiple benefits of using ichor because lazy file reading is inherently present, even if third party parsers are used to parse input and output files. In addition, ichor allows a more convenient interface where one single Python class allows users to read, write, and modify files through one single Python class. In addition, users can then easily submit and organize jobs on HPC clusters through the hpc package."
   ]
  }
 ],
 "metadata": {
  "kernelspec": {
   "display_name": "ichor_paper_examples",
   "language": "python",
   "name": "python3"
  },
  "language_info": {
   "codemirror_mode": {
    "name": "ipython",
    "version": 3
   },
   "file_extension": ".py",
   "mimetype": "text/x-python",
   "name": "python",
   "nbconvert_exporter": "python",
   "pygments_lexer": "ipython3",
   "version": "3.10.12"
  }
 },
 "nbformat": 4,
 "nbformat_minor": 2
}
