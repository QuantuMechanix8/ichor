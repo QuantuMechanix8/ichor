{
 "cells": [
  {
   "attachments": {},
   "cell_type": "markdown",
   "metadata": {},
   "source": [
    "# Accessing Output Data from Gaussian and AIMAll Calculations\n",
    "\n",
    "After running Gaussian or AIMALL calculations, we can access things such as the energy calculated by Gaussian or the IQA energy or multipole moments calculated by AIMALL.\n",
    "\n",
    "To access these properties for all .wfn or all .int files in a directory, we can use the `PointsDirectory` class. This class wraps around a directory, containing multiple points. Each point is wrapped with the `PointDirectory` class. We can work with the `PointsDirectory` class directly as it loops through all the subsequent subdirectories and looks for `.wfn` and `.int` files.\n",
    "\n",
    "If Gaussian and AIMALL calculations were done using ICHOR or your own script that uses ICHOR's modules (see `submitting_multiple_gjfs` example), the resulting directory structure looks something like this (where `.` indicates the directory where job outputs were written to.)\n",
    "\n",
    "## Directory Structure of ichor's Gaussian and AIMALL calculations\n",
    "\n",
    "Below is the directory structure that ICHOR produces when running Gaussian and AIMALL calculations. Note that only part of the tree structure is shown.\n",
    "\n",
    "```\n",
    ".\n",
    "|--- SYSTEM0001\n",
    "|   |--- SYSTEM0001_atomicfiles\n",
    "|   |   |--- h2.int\n",
    "|   |   |--- h3.int\n",
    "|   |   |--- o1.int\n",
    "|   |--- SYSTEM0001.gjf\n",
    "|   |--- SYSTEM0001.wfn\n",
    "|--- SYSTEM0002\n",
    "|   |--- SYSTEM0002_atomicfiles\n",
    "|   |   |--- h2.int\n",
    "|   |   |--- h3.int\n",
    "|   |   |--- o1.int\n",
    "|   |--- SYSTEM0002.gjf\n",
    "|   |--- SYSTEM0002.wfn\n",
    "...\n",
    "...\n",
    "...\n",
    "```\n",
    "Each `SYSTEM*` directory is one molecular geometry for which `.wfn` and `.int` files made with Gaussian or AIMALL. The naming of the system can be changed by using ICHOR's `GLOBALS`. The AIMALL output files `.int` are parsed and renamed to `.int.bak`. New `.int` files are written in `json` format to speed up data loading, which contain all the iqa and multipole moment information we need."
   ]
  },
  {
   "attachments": {},
   "cell_type": "markdown",
   "metadata": {},
   "source": [
    "## Obtaining Gaussian results"
   ]
  },
  {
   "attachments": {},
   "cell_type": "markdown",
   "metadata": {},
   "source": [
    "### Obtaining total energy"
   ]
  },
  {
   "cell_type": "code",
   "execution_count": 10,
   "metadata": {},
   "outputs": [
    {
     "name": "stdout",
     "output_type": "stream",
     "text": [
      "WATER_MONOMER0001 -76.460540818734\n",
      "WATER_MONOMER0002 -76.469001149103\n",
      "WATER_MONOMER0003 -76.469939778037\n",
      "WATER_MONOMER0004 -76.468896949985\n"
     ]
    }
   ],
   "source": [
    "from ichor.core.files import PointsDirectory\n",
    "\n",
    "# PointsDirectory(\"path_to_directory_with_wfn_and_int_files\")\n",
    "points_dir = PointsDirectory(\"example_files/water_monomer_points_dir\")\n",
    "\n",
    "for point_directory in points_dir:\n",
    "\n",
    "    print(point_directory.name, point_directory.wfn.total_energy)"
   ]
  },
  {
   "attachments": {},
   "cell_type": "markdown",
   "metadata": {},
   "source": [
    "### Accessing IQA energy"
   ]
  },
  {
   "cell_type": "code",
   "execution_count": 13,
   "metadata": {},
   "outputs": [
    {
     "ename": "AttributeError",
     "evalue": "'OptionalFileType' object has no attribute 'iqa'",
     "output_type": "error",
     "traceback": [
      "\u001b[0;31m---------------------------------------------------------------------------\u001b[0m",
      "\u001b[0;31mAttributeError\u001b[0m                            Traceback (most recent call last)",
      "Cell \u001b[0;32mIn[13], line 3\u001b[0m\n\u001b[1;32m      1\u001b[0m \u001b[39mfor\u001b[39;00m point_directory \u001b[39min\u001b[39;00m points_dir:\n\u001b[0;32m----> 3\u001b[0m     \u001b[39mprint\u001b[39m(point_directory\u001b[39m.\u001b[39mname, point_directory\u001b[39m.\u001b[39;49mints\u001b[39m.\u001b[39;49miqa)\n",
      "\u001b[0;31mAttributeError\u001b[0m: 'OptionalFileType' object has no attribute 'iqa'"
     ]
    }
   ],
   "source": [
    "# TODO"
   ]
  },
  {
   "attachments": {},
   "cell_type": "markdown",
   "metadata": {},
   "source": [
    "### Accessing Mulipole Moments"
   ]
  },
  {
   "cell_type": "code",
   "execution_count": null,
   "metadata": {},
   "outputs": [],
   "source": [
    "# TODO"
   ]
  }
 ],
 "metadata": {
  "kernelspec": {
   "display_name": "ichor_docs",
   "language": "python",
   "name": "python3"
  },
  "language_info": {
   "codemirror_mode": {
    "name": "ipython",
    "version": 3
   },
   "file_extension": ".py",
   "mimetype": "text/x-python",
   "name": "python",
   "nbconvert_exporter": "python",
   "pygments_lexer": "ipython3",
   "version": "3.10.9"
  },
  "orig_nbformat": 4
 },
 "nbformat": 4,
 "nbformat_minor": 2
}
