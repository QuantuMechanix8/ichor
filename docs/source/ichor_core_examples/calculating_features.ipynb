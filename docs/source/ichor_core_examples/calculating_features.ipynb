{
 "cells": [
  {
   "attachments": {},
   "cell_type": "markdown",
   "metadata": {},
   "source": [
    "# Calculating Features\n",
    "\n",
    "Calculating features is done through the `Atoms` class, which contains a molecular geometry. This is the central class used throughout ichor that deals with manipulating molecular geometries. Files typically have the `.atoms` attribute if they contain a molecular geometry."
   ]
  },
  {
   "cell_type": "code",
   "execution_count": 3,
   "metadata": {},
   "outputs": [
    {
     "name": "stdout",
     "output_type": "stream",
     "text": [
      "O1       0.00000000      0.00000000      0.00000000\n",
      "H2       2.10000000      2.30000000      0.00000000\n",
      "H3       5.00000000      0.00000000      4.30000000\n"
     ]
    }
   ],
   "source": [
    "from ichor.core.atoms import Atoms, Atom\n",
    "\n",
    "# make some random geometry\n",
    "atoms_instance = Atoms([Atom(\"O\", 0.0, 0.0, 0.0),\n",
    "                        Atom(\"H\", 2.1, 2.3, 0.0),\n",
    "                        Atom(\"H\", 5.0, 0.0, 4.3)])\n",
    "\n",
    "print(atoms_instance)"
   ]
  },
  {
   "attachments": {},
   "cell_type": "markdown",
   "metadata": {},
   "source": [
    "## Calculators\n",
    "\n",
    "Calculator functions take in an `Atom` instance and calculate something with it. An example below calculated the atomic local frame (ALF) features.\n",
    "\n",
    "Features are calculated using feature calculator functions, which take in an `Atom` instance and return the calculated features. The calculators might need extra arguments, which are passed in as arguments or key word arguments. Currently, only an atomic local frame calculator is implemented, but there is nothing stopping a user from implementing their own calculators as needed."
   ]
  },
  {
   "cell_type": "code",
   "execution_count": 7,
   "metadata": {},
   "outputs": [
    {
     "name": "stdout",
     "output_type": "stream",
     "text": [
      "{'H2': ALF(origin_idx=1, x_axis_idx=0, xy_plane_idx=2),\n",
      " 'H3': ALF(origin_idx=2, x_axis_idx=0, xy_plane_idx=1),\n",
      " 'O1': ALF(origin_idx=0, x_axis_idx=1, xy_plane_idx=2)}\n",
      "[ALF(origin_idx=0, x_axis_idx=1, xy_plane_idx=2),\n",
      " ALF(origin_idx=1, x_axis_idx=0, xy_plane_idx=2),\n",
      " ALF(origin_idx=2, x_axis_idx=0, xy_plane_idx=1)]\n"
     ]
    }
   ],
   "source": [
    "from ichor.core.calculators import default_alf_calculator, default_feature_calculator\n",
    "from pprint import pprint\n",
    "\n",
    "# for the alf features, we need to define an ALF first\n",
    "alf_dict = atoms_instance.alf_dict(default_alf_calculator)\n",
    "pprint(alf_dict)\n",
    "\n",
    "alf_list = atoms_instance.alf_list(default_alf_calculator)\n",
    "pprint(alf_list)"
   ]
  },
  {
   "attachments": {},
   "cell_type": "markdown",
   "metadata": {},
   "source": [
    "As seen above, we first calculate the ALF for every atom. There is the `alf_list` and `alf_dict` methods, which return either a list of a dictionary respectively. In both cases, the `ALF` class is used to contain information about the atom's ALF. This `ALF` class is simply a named tuple containing the origin index, x axis index, and xy plane index. Note that these are 0-indexed as Python is 0 indexed. However, do note that the actual atom names (eg. O1, H2, etc.) do start at 1. There is no atom `H0` for example."
   ]
  },
  {
   "cell_type": "code",
   "execution_count": 9,
   "metadata": {},
   "outputs": [
    {
     "name": "stdout",
     "output_type": "stream",
     "text": [
      "array([[ 5.88551857, 12.46216712,  1.0341914 ],\n",
      "       [ 5.88551857, 10.72159395,  1.61608526],\n",
      "       [12.46216712, 10.72159395,  0.49131599]])\n",
      "array([[ 5.88551857, 12.46216712,  1.0341914 ],\n",
      "       [ 5.88551857, 10.72159395,  1.61608526],\n",
      "       [12.46216712, 10.72159395,  0.49131599]])\n"
     ]
    }
   ],
   "source": [
    "# calculating features with given alf\n",
    "\n",
    "features = atoms_instance.features(default_feature_calculator, alf_dict)\n",
    "pprint(features)\n",
    "\n",
    "features = atoms_instance.features(default_feature_calculator, alf_list)\n",
    "pprint(features)"
   ]
  },
  {
   "attachments": {},
   "cell_type": "markdown",
   "metadata": {},
   "source": [
    "The ALF features for the given `Atoms` instance are calculated as a numpy array of shape `natoms x nfeatures`. Since these features are per-atom, each atom has its own feature set. Now, we can also calculate the features for an individual atom like so"
   ]
  },
  {
   "cell_type": "code",
   "execution_count": 10,
   "metadata": {},
   "outputs": [
    {
     "name": "stdout",
     "output_type": "stream",
     "text": [
      "array([ 5.88551857, 12.46216712,  1.0341914 ])\n"
     ]
    }
   ],
   "source": [
    "one_atom_features = atoms_instance[\"O1\"].features(default_feature_calculator, alf_dict)\n",
    "pprint(one_atom_features)"
   ]
  },
  {
   "attachments": {},
   "cell_type": "markdown",
   "metadata": {},
   "source": [
    "This is done by directly calculating the ALF features only for the O1 atom."
   ]
  },
  {
   "attachments": {},
   "cell_type": "markdown",
   "metadata": {},
   "source": [
    "## Defining a custom feature calculator\n",
    "\n",
    "Let's say that you want to implement a custom calculator. All you need to do is implement a function that takes in an `Atom` instance and does something with it. Note that typically you will access the `parent` attribute of `Atom`, which is the `Atoms` instance containing the whole geometry."
   ]
  },
  {
   "cell_type": "code",
   "execution_count": 14,
   "metadata": {},
   "outputs": [
    {
     "name": "stdout",
     "output_type": "stream",
     "text": [
      "[0.  2.1 5. ]\n"
     ]
    }
   ],
   "source": [
    "import numpy as np\n",
    "\n",
    "def x_coordinate_features(atom_instance: Atom):\n",
    "    \"\"\"A calculator function that grabs only the x-coordinate of all atoms.\n",
    "\n",
    "    :param atom_instance: an Atom instance to work with\n",
    "    :return: An array of x coordinates for all atoms in the system.\n",
    "    \"\"\"\n",
    "\n",
    "    return np.array([a.coordinates[0] for a in atom_instance.parent])\n",
    "\n",
    "new_set_of_features = atoms_instance[\"O1\"].features(x_coordinate_features)\n",
    "\n",
    "print(new_set_of_features)"
   ]
  },
  {
   "attachments": {},
   "cell_type": "markdown",
   "metadata": {},
   "source": [
    "Then to get the features for all atoms, we go to the `Atoms` class instead, which just gets the features for all `Atom` instances held inside the `Atoms` class. Note that due to the simple calculator, the features for all atoms will be the same in this case."
   ]
  },
  {
   "cell_type": "code",
   "execution_count": 15,
   "metadata": {},
   "outputs": [
    {
     "name": "stdout",
     "output_type": "stream",
     "text": [
      "[[0.  2.1 5. ]\n",
      " [0.  2.1 5. ]\n",
      " [0.  2.1 5. ]]\n"
     ]
    }
   ],
   "source": [
    "new_set_of_features_all_atoms = atoms_instance.features(x_coordinate_features)\n",
    "\n",
    "print(new_set_of_features_all_atoms)"
   ]
  }
 ],
 "metadata": {
  "kernelspec": {
   "display_name": "ichor_docs",
   "language": "python",
   "name": "python3"
  },
  "language_info": {
   "codemirror_mode": {
    "name": "ipython",
    "version": 3
   },
   "file_extension": ".py",
   "mimetype": "text/x-python",
   "name": "python",
   "nbconvert_exporter": "python",
   "pygments_lexer": "ipython3",
   "version": "3.10.9"
  },
  "orig_nbformat": 4
 },
 "nbformat": 4,
 "nbformat_minor": 2
}
