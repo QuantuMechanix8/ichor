{
 "cells": [
  {
   "attachments": {},
   "cell_type": "markdown",
   "metadata": {},
   "source": [
    "# Working with `ichor` files\n",
    "\n",
    "The `ichor.core` package has classes implemented for file reading (and writing) of several input and output files of computational programs that are used (Gaussian, AIMAll, DLPOLY, etc.)"
   ]
  },
  {
   "cell_type": "code",
   "execution_count": 1,
   "metadata": {},
   "outputs": [
    {
     "data": {
      "text/plain": [
       "['INT',\n",
       " 'INTs',\n",
       " 'AIM',\n",
       " 'GJF',\n",
       " 'WFN',\n",
       " 'GaussianOut',\n",
       " 'Trajectory',\n",
       " 'DlpolyHistory',\n",
       " 'DlPolyField',\n",
       " 'DlPolyConfig',\n",
       " 'DlPolyControl',\n",
       " 'DlPolyFFLUX',\n",
       " 'DlPolyIQAEnergies',\n",
       " 'DlPolyIQAForces',\n",
       " 'FFLUXDirectory',\n",
       " 'PandoraInput',\n",
       " 'PointDirectory',\n",
       " 'PointsDirectory',\n",
       " 'XYZ',\n",
       " 'Mol2',\n",
       " 'PySCFDirectory',\n",
       " 'MorfiDirectory',\n",
       " 'PandoraDirectory',\n",
       " 'ABINT']"
      ]
     },
     "execution_count": 1,
     "metadata": {},
     "output_type": "execute_result"
    }
   ],
   "source": [
    "# all available classes (see ichor.core.files.__init__ file where __all__ is implemented)\n",
    "from ichor.core import files\n",
    "\n",
    "files.__all__"
   ]
  },
  {
   "attachments": {},
   "cell_type": "markdown",
   "metadata": {},
   "source": [
    "## General implementation of file classes\n",
    "\n",
    "File classes subclass from `ichor.core.files.file.ReadFile` and/or `ichor.core.files.file.WriteFile`.\n",
    "\n",
    "When subclassing from `ReadFile`, a `_read_file` method must be defined, which is how the new file should be read and parsed. Ichor has lazy file reading implemented, meaning that a file will only be read when an attribute of the file instance is accessed, **not** when the file instance is created.\n",
    "\n",
    "For example:"
   ]
  },
  {
   "cell_type": "code",
   "execution_count": 2,
   "metadata": {},
   "outputs": [
    {
     "name": "stdout",
     "output_type": "stream",
     "text": [
      "N1       1.30610788    -29.77550072     -0.39451506\n",
      "H2       0.88322943    -29.08071028     -1.14190493\n",
      "H3       1.46749713    -29.22282070      0.46703669\n",
      "H4       2.11921902    -30.18852549     -0.75438182\n"
     ]
    }
   ],
   "source": [
    "from ichor.core.files import GJF\n",
    "\n",
    "# make instance of GJF, file has not been read yet\n",
    "gjf_instance = GJF(\"../../../example_files/example_gjf.gjf\")\n",
    "\n",
    "# then you can access attributes\n",
    "# in the background, the lazy file reading will check the value of the attribute\n",
    "# and read the file if necessary\n",
    "atoms = gjf_instance.atoms\n",
    "\n",
    "print(atoms)"
   ]
  },
  {
   "attachments": {},
   "cell_type": "markdown",
   "metadata": {},
   "source": [
    "The way the lazy reading works is by having a special `None` equivalent, defined as `FileContents` (which is an instance of `FileContentsType`. This essentially the same as `NoneType`). This allows us to check if an attribute is `FileContents`. If it is `FileContents`, then we first must read the file and then try to access the attribute value again. The implementation is found in `ReadFile.__getattribute__`, which is called every time that an attribute is accessed."
   ]
  },
  {
   "attachments": {},
   "cell_type": "markdown",
   "metadata": {},
   "source": [
    "Subclassing from `WriteFile` means a `_write_file` method must be implemented in the sub-class, which defines the format of the file that needs to be written out.\n",
    "\n",
    "**Note that you can directly then call the `write` method, which subsequently calls `_write_file`.**"
   ]
  }
 ],
 "metadata": {
  "kernelspec": {
   "display_name": "ichor_docs",
   "language": "python",
   "name": "python3"
  },
  "language_info": {
   "codemirror_mode": {
    "name": "ipython",
    "version": 3
   },
   "file_extension": ".py",
   "mimetype": "text/x-python",
   "name": "python",
   "nbconvert_exporter": "python",
   "pygments_lexer": "ipython3",
   "version": "3.10.9"
  }
 },
 "nbformat": 4,
 "nbformat_minor": 2
}
